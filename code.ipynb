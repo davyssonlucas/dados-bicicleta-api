{
 "cells": [
  {
   "cell_type": "markdown",
   "id": "327cfa6a-f519-4dfe-907a-c0bc6cb41300",
   "metadata": {},
   "source": [
    "> ![logo100px.jpg](data:image/jpeg;base64,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)\n",
    "\n",
    "\n",
    "# Desafio de Dados: Consumindo API de Aluguel de Bicicleta\n",
    "https://colab.research.google.com/gist/ricosuhete/4672c186a61857523ff94286e6f58bed/api_openweathermap.ipynb#scrollTo=kT1ExmSTC0I3\n",
    "# RESOLUÇÃO:\n"
   ]
  },
  {
   "cell_type": "markdown",
   "id": "c969fd1e",
   "metadata": {},
   "source": [
    "Obter a lista de todas as estações de bicicletas e armazená-las em uma tabela SQL."
   ]
  },
  {
   "cell_type": "code",
   "execution_count": 144,
   "id": "d32f6fbd-2cff-40d2-b041-b5683e414f25",
   "metadata": {},
   "outputs": [],
   "source": [
    "from pyspark.sql import SparkSession\n",
    "import pandas as pd\n",
    "import requests\n",
    "\n",
    "url = \"https://gbfs.lyft.com/gbfs/2.3/bkn/en/station_information.json\"\n",
    "response = requests.get(url)\n",
    "\n",
    "if response.status_code == 200:\n",
    "    data1 = response.json()[\"data\"][\"stations\"]\n",
    "    \n",
    "    # Inicie uma sessão Spark\n",
    "    spark = SparkSession.builder.appName(\"desafio\").getOrCreate()\n",
    "\n",
    "   \n",
    "    # Converte a lista de dicionários em um DataFrame do PySpark\n",
    "    df_info_station = spark.createDataFrame(pd.DataFrame(data1))\n",
    "\n",
    "    # Selecione apenas as colunas desejadas\n",
    "    df_info_station = df_info_station.select(\"station_id\", \"name\", \"capacity\")\n",
    "    \n",
    "    # Registrar o DataFrame como uma tabela temporária\n",
    "    df_info_station.createOrReplaceTempView(\"stations_info\")\n",
    "    # Executar consulta SQL no DataFrame\n",
    "    resultado2 = spark.sql(\"SELECT * FROM stations_info\")   \n",
    "    #resultado2.show()\n",
    "\n",
    "else:\n",
    "    print(\"Erro ao buscar os dados da URL.\")"
   ]
  },
  {
   "cell_type": "code",
   "execution_count": 145,
   "id": "36b8e5f6-e168-4c14-8194-9584f9c3fd74",
   "metadata": {},
   "outputs": [],
   "source": [
    "url = \"https://gbfs.lyft.com/gbfs/2.3/bkn/en/station_status.json\"\n",
    "response = requests.get(url)\n",
    "\n",
    "if response.status_code == 200:\n",
    "    data1 = response.json()[\"data\"][\"stations\"]\n",
    "\n",
    "    # Converte a lista de dicionários em um DataFrame do PySpark\n",
    "    df_status = spark.createDataFrame(pd.DataFrame(data1))\n",
    "    \n",
    "    # Selecione apenas as colunas desejadas\n",
    "    df_status = df_status.select(\"station_id\", \"num_bikes_available\", \"num_docks_available\", \"num_bikes_disabled\")\n",
    "    \n",
    "    # Registrar o DataFrame como uma tabela temporária\n",
    "    df_status.createOrReplaceTempView(\"stations_status\")\n",
    "    # Executar consulta SQL no DataFrame\n",
    "    # resultado = spark.sql(\"SELECT * FROM stations_status WHERE num_bikes_available > 0\")\n",
    "\n",
    "    # Mostrar o resultado da consulta\n",
    "    #resultado.show()\n",
    "  \n",
    "else:\n",
    "    print(\"Erro ao buscar os dados da URL.\")\n"
   ]
  },
  {
   "cell_type": "markdown",
   "id": "064dd6e5-11e8-4adf-ab99-91cd0b57122f",
   "metadata": {},
   "source": [
    "Identificar a estação de bicicleta com a maior quantidade de bicicletas disponíveis em tempo real e exibir o resultado em uma tabela SQL."
   ]
  },
  {
   "cell_type": "code",
   "execution_count": 146,
   "id": "93f69c47-012c-417c-876c-3cc3643aaf73",
   "metadata": {},
   "outputs": [
    {
     "name": "stdout",
     "output_type": "stream",
     "text": [
      "+----------------+-------------------+-------------------+------------------+\n",
      "|            name|num_bikes_available|num_docks_available|num_bikes_disabled|\n",
      "+----------------+-------------------+-------------------+------------------+\n",
      "|W 43 St & 10 Ave|                 98|                  5|                 4|\n",
      "+----------------+-------------------+-------------------+------------------+\n",
      "\n"
     ]
    }
   ],
   "source": [
    "resultado_join = spark.sql(\"\"\"\n",
    "SELECT\n",
    "    stations_info.name,\n",
    "    stations_status.num_bikes_available,\n",
    "    stations_status.num_docks_available,\n",
    "    stations_status.num_bikes_disabled    \n",
    "FROM\n",
    "    stations_info\n",
    "LEFT JOIN\n",
    "    stations_status ON stations_info.station_id = stations_status.station_id\n",
    "WHERE \n",
    "    num_bikes_available > 0\n",
    "ORDER BY num_bikes_available DESC LIMIT 1\n",
    "\"\"\")\n",
    "\n",
    "# resultado3 = spark.sql(\"SELECT name, capacity FROM stations_info ORDER BY capacity DESC LIMIT 1\")\n",
    "# resultado3.show()\n",
    "\n",
    "# Mostrar o resultado da consulta\n",
    "resultado_join.show()\n",
    "\n",
    "                           "
   ]
  },
  {
   "cell_type": "markdown",
   "id": "f769b6a6-51b4-4d5f-a2d1-d05b7fb76431",
   "metadata": {},
   "source": [
    "Calcular a média de duração de uma viagem em cada estação de bicicleta e exibir os resultados em uma tabela SQL."
   ]
  },
  {
   "cell_type": "code",
   "execution_count": 147,
   "id": "9719111f-4ecf-4f6e-9e87-5af97b76aaf4",
   "metadata": {},
   "outputs": [
    {
     "name": "stdout",
     "output_type": "stream",
     "text": [
      "+--------------------+----------------+\n",
      "|  start_station_name|average_duration|\n",
      "+--------------------+----------------+\n",
      "|Nassau St & Duffi...|        00:14:07|\n",
      "|Buchanan Pl & Gra...|        00:13:56|\n",
      "|     E 63 St & 3 Ave|        00:18:25|\n",
      "|       19 St & 8 Ave|        00:12:31|\n",
      "|       45 Rd & 11 St|        00:14:33|\n",
      "| Sterling Pl & 5 Ave|        00:14:24|\n",
      "|  N 11 St & Kent Ave|        00:13:38|\n",
      "|E Tremont Ave & E...|        00:20:06|\n",
      "|College Ave & E 1...|        00:15:12|\n",
      "|E 141 St & Jackso...|        00:13:43|\n",
      "|       5 Ave & 66 St|        00:19:09|\n",
      "|     31 Ave & 103 St|        00:17:12|\n",
      "|   Dean St & Hoyt St|        00:13:57|\n",
      "|     W 20 St & 5 Ave|        00:14:25|\n",
      "| Park Ave & E 124 St|        00:14:25|\n",
      "|Popham Ave & W 17...|        00:16:41|\n",
      "| 20 Ave & Shore Blvd|        00:17:01|\n",
      "|Van Buren St & Br...|        00:14:35|\n",
      "| Berkeley Pl & 6 Ave|        00:14:29|\n",
      "|Grand Concourse &...|        00:14:44|\n",
      "+--------------------+----------------+\n",
      "only showing top 20 rows\n",
      "\n"
     ]
    }
   ],
   "source": [
    "# Ler o arquivo CSV com cabeçalho\n",
    "df_time = spark.read.csv(\"/home/jovyan/work/desafiodabicicleta/202309-citibike-tripdata.csv\", header=True)\n",
    "\n",
    "# Selecione as colunas desejadas\n",
    "df_time = df_time.select(\"start_station_name\", \"end_station_name\", \"started_at\", \"ended_at\")\n",
    "\n",
    "# Registrar o DataFrame como uma tabela temporária\n",
    "df_time.createOrReplaceTempView(\"tripdata\")\n",
    "\n",
    "# Executar consulta SQL no DataFrame\n",
    "resultado = spark.sql(\"\"\"SELECT\n",
    "    start_station_name,\n",
    "    FROM_UNIXTIME(AVG(UNIX_TIMESTAMP(ended_at) - UNIX_TIMESTAMP(started_at)), 'HH:mm:ss') AS average_duration\n",
    "FROM tripdata\n",
    "GROUP BY start_station_name\n",
    "                    \"\"\")\n",
    "resultado.show()\n"
   ]
  },
  {
   "cell_type": "markdown",
   "id": "8f21ea96-17fd-4c83-bc3d-ce07f1c68865",
   "metadata": {},
   "source": [
    "Determinar a hora do dia com a maior e a menor quantidade de viagens e exibir os resultados em uma tabela SQL."
   ]
  },
  {
   "cell_type": "code",
   "execution_count": 148,
   "id": "72bca48e-15d4-4dd1-a2f5-3a9d8fd420f6",
   "metadata": {},
   "outputs": [
    {
     "name": "stdout",
     "output_type": "stream",
     "text": [
      "+--------+----------+\n",
      "|    hour|trip_count|\n",
      "+--------+----------+\n",
      "|18:00:00|    625225|\n",
      "+--------+----------+\n",
      "\n",
      "+--------+----------+\n",
      "|    hour|trip_count|\n",
      "+--------+----------+\n",
      "|04:00:00|     25949|\n",
      "+--------+----------+\n",
      "\n"
     ]
    }
   ],
   "source": [
    "# Ler o arquivo CSV com cabeçalho\n",
    "df_time = spark.read.csv(\"/home/jovyan/work/desafiodabicicleta/202309-citibike-tripdata.csv\", header=True)\n",
    "\n",
    "# Selecione as colunas desejadas\n",
    "df_time = df_time.select(\"start_station_name\", \"end_station_name\", \"started_at\", \"ended_at\")\n",
    "\n",
    "# Registrar o DataFrame como uma tabela temporária\n",
    "df_time.createOrReplaceTempView(\"tripdata\")\n",
    "\n",
    "# Consulta para a hora do dia com a maior quantidade de viagens\n",
    "query_most_trips = \"\"\"\n",
    "SELECT\n",
    "    DATE_FORMAT(CAST(trip_time AS TIMESTAMP), 'HH:00:00') AS hour,\n",
    "    COUNT(*) AS trip_count\n",
    "FROM (\n",
    "    SELECT started_at AS trip_time FROM tripdata\n",
    "    UNION ALL\n",
    "    SELECT ended_at AS trip_time FROM tripdata\n",
    ") AS trip_hours\n",
    "GROUP BY hour\n",
    "ORDER BY trip_count DESC\n",
    "LIMIT 1\n",
    "\"\"\"\n",
    "\n",
    "# Consulta para a hora do dia com a menor quantidade de viagens\n",
    "query_least_trips = \"\"\"\n",
    "SELECT\n",
    "    DATE_FORMAT(CAST(trip_time AS TIMESTAMP), 'HH:00:00') AS hour,\n",
    "    COUNT(*) AS trip_count\n",
    "FROM (\n",
    "    SELECT started_at AS trip_time FROM tripdata\n",
    "    UNION ALL\n",
    "    SELECT ended_at AS trip_time FROM tripdata\n",
    ") AS trip_hours\n",
    "GROUP BY hour\n",
    "ORDER BY trip_count ASC\n",
    "LIMIT 1\n",
    "\"\"\"\n",
    "\n",
    "# Executar a consulta para a hora do dia com a maior quantidade de viagens\n",
    "resultado_most_trips = spark.sql(query_most_trips)\n",
    "\n",
    "# Executar a consulta para a hora do dia com a menor quantidade de viagens\n",
    "resultado_least_trips = spark.sql(query_least_trips)\n",
    "\n",
    "# Exibir os resultados\n",
    "resultado_most_trips.show()\n",
    "resultado_least_trips.show()\n"
   ]
  },
  {
   "cell_type": "markdown",
   "id": "311ba0f0-76a3-4ca3-8f69-01868212d4e6",
   "metadata": {},
   "source": [
    "Calcular a média de duração de uma viagem em cada hora do dia e exibir os resultados em uma tabela SQL."
   ]
  },
  {
   "cell_type": "code",
   "execution_count": 149,
   "id": "ddc7faca-7433-4ccd-95d9-5d9a3869219c",
   "metadata": {},
   "outputs": [
    {
     "name": "stdout",
     "output_type": "stream",
     "text": [
      "+----+----------------+\n",
      "|hour|average_duration|\n",
      "+----+----------------+\n",
      "|  00|        00:17:06|\n",
      "|  01|        00:17:35|\n",
      "|  02|        00:17:56|\n",
      "|  03|        00:19:35|\n",
      "|  04|        00:17:30|\n",
      "|  05|        00:13:35|\n",
      "|  06|        00:13:41|\n",
      "|  07|        00:14:24|\n",
      "|  08|        00:14:36|\n",
      "|  09|        00:14:38|\n",
      "|  10|        00:16:00|\n",
      "|  11|        00:16:41|\n",
      "|  12|        00:16:51|\n",
      "|  13|        00:16:55|\n",
      "|  14|        00:16:49|\n",
      "|  15|        00:16:35|\n",
      "|  16|        00:16:25|\n",
      "|  17|        00:15:56|\n",
      "|  18|        00:15:40|\n",
      "|  19|        00:15:22|\n",
      "|  20|        00:15:14|\n",
      "|  21|        00:15:19|\n",
      "|  22|        00:16:17|\n",
      "|  23|        00:16:28|\n",
      "+----+----------------+\n",
      "\n"
     ]
    }
   ],
   "source": [
    "# Ler o arquivo CSV com cabeçalho\n",
    "df_time = spark.read.csv(\"/home/jovyan/work/desafiodabicicleta/202309-citibike-tripdata.csv\", header=True)\n",
    "\n",
    "# Selecione as colunas desejadas\n",
    "df_time = df_time.select(\"started_at\", \"ended_at\")\n",
    "\n",
    "# Registrar o DataFrame como uma tabela temporária\n",
    "df_time.createOrReplaceTempView(\"tripdata\")\n",
    "\n",
    "# Consulta para calcular a média de duração de viagem em cada hora do dia\n",
    "query_avg_duration = \"\"\"\n",
    "SELECT\n",
    "    DATE_FORMAT(CAST(started_at AS TIMESTAMP), 'HH') AS hour,\n",
    "    FROM_UNIXTIME(AVG(unix_timestamp(ended_at) - unix_timestamp(started_at)), 'HH:mm:ss') AS average_duration\n",
    "FROM tripdata\n",
    "GROUP BY hour\n",
    "ORDER BY hour\n",
    "\"\"\"\n",
    "\n",
    "# Executar a consulta\n",
    "resultado_avg_duration = spark.sql(query_avg_duration)\n",
    "\n",
    "# Exibir os resultados\n",
    "resultado_avg_duration.show(24)\n",
    "\n"
   ]
  },
  {
   "cell_type": "markdown",
   "id": "ee79d553-77a0-47f1-98ff-90a12e405aba",
   "metadata": {},
   "source": [
    "Identificar a estação de bicicleta mais popular com base no número total de viagens iniciadas e exibir o resultado em uma tabela SQL."
   ]
  },
  {
   "cell_type": "code",
   "execution_count": 150,
   "id": "8c1f25df-ec8f-4005-95cb-7cd57276d4de",
   "metadata": {},
   "outputs": [
    {
     "name": "stdout",
     "output_type": "stream",
     "text": [
      "+------------------+-----------+\n",
      "|start_station_name|total_trips|\n",
      "+------------------+-----------+\n",
      "|   W 21 St & 6 Ave|      13596|\n",
      "+------------------+-----------+\n",
      "\n"
     ]
    }
   ],
   "source": [
    "# Ler o arquivo CSV com cabeçalho\n",
    "df_time = spark.read.csv(\"/home/jovyan/work/desafiodabicicleta/202309-citibike-tripdata.csv\", header=True)\n",
    "\n",
    "# Selecione as colunas desejadas\n",
    "df_time = df_time.select(\"start_station_name\", \"end_station_name\", \"started_at\", \"ended_at\")\n",
    "\n",
    "# Registrar o DataFrame como uma tabela temporária\n",
    "df_time.createOrReplaceTempView(\"tripdata\")\n",
    "\n",
    "# Consulta para identificar a estação de bicicleta mais popular\n",
    "query_most_popular_station = \"\"\"\n",
    "SELECT\n",
    "    start_station_name,\n",
    "    COUNT(*) AS total_trips\n",
    "FROM tripdata\n",
    "GROUP BY start_station_name\n",
    "ORDER BY total_trips DESC\n",
    "LIMIT 1\n",
    "\"\"\"\n",
    "\n",
    "# Executar a consulta\n",
    "resultado_most_popular_station = spark.sql(query_most_popular_station)\n",
    "\n",
    "# Exibir o resultado\n",
    "resultado_most_popular_station.show()"
   ]
  },
  {
   "cell_type": "markdown",
   "id": "412f9904",
   "metadata": {},
   "source": [
    "Obter o histórico de viagens de uma estação de bicicleta específica e exibir os resultados em uma tabela SQL."
   ]
  },
  {
   "cell_type": "code",
   "execution_count": 151,
   "id": "a63fa062",
   "metadata": {},
   "outputs": [
    {
     "name": "stdout",
     "output_type": "stream",
     "text": [
      "+------------------+----------------+-------------+-------------------+-------------------+--------------------+\n",
      "|start_station_name|         ride_id|rideable_type|         started_at|           ended_at|    end_station_name|\n",
      "+------------------+----------------+-------------+-------------------+-------------------+--------------------+\n",
      "|   E 63 St & 3 Ave|4DDE4DD4298319E7| classic_bike|2023-09-27 07:24:49|2023-09-27 07:29:09|     5 Ave & E 63 St|\n",
      "|   E 63 St & 3 Ave|E811BC6C7D4C8F02| classic_bike|2023-09-27 11:10:33|2023-09-27 11:16:19|     E 85 St & 3 Ave|\n",
      "|   E 63 St & 3 Ave|6E0BACC997562445| classic_bike|2023-09-30 14:34:56|2023-09-30 14:55:13|W 87 St & West En...|\n",
      "|   E 63 St & 3 Ave|2F3E8F74133D9EFB| classic_bike|2023-09-13 17:09:43|2023-09-13 17:30:09| Henry St & Grand St|\n",
      "|   E 63 St & 3 Ave|0475B22A28BFFB04| classic_bike|2023-09-18 16:11:36|2023-09-18 16:43:31|W 84 St & Columbu...|\n",
      "|   E 63 St & 3 Ave|8D6CBFAF03FF375A| classic_bike|2023-09-06 20:10:58|2023-09-06 20:17:28|     E 85 St & 3 Ave|\n",
      "|   E 63 St & 3 Ave|B128394359BCBC6B| classic_bike|2023-09-30 14:54:44|2023-09-30 15:07:55|     E 51 St & 2 Ave|\n",
      "|   E 63 St & 3 Ave|8EEF971612F35B22| classic_bike|2023-09-11 10:59:04|2023-09-11 11:09:51|E 43 St & Madison...|\n",
      "|   E 63 St & 3 Ave|40B330D1612D68CA| classic_bike|2023-09-07 16:31:42|2023-09-07 16:42:59|     2 Ave & E 99 St|\n",
      "|   E 63 St & 3 Ave|09734EDB824145BD| classic_bike|2023-09-30 12:56:33|2023-09-30 13:39:51|Washington St & B...|\n",
      "|   E 63 St & 3 Ave|BFCF3D0E798F1847| classic_bike|2023-09-17 17:09:04|2023-09-17 17:37:43|Stanton St & Norf...|\n",
      "|   E 63 St & 3 Ave|AFA92E043F59C996| classic_bike|2023-09-27 19:43:09|2023-09-27 20:00:16|    E 118 St & 3 Ave|\n",
      "|   E 63 St & 3 Ave|054F0A85D25C4A66| classic_bike|2023-09-27 12:16:16|2023-09-27 12:34:10| Washington Square E|\n",
      "|   E 63 St & 3 Ave|80296C56B8D859C5| classic_bike|2023-09-17 17:12:26|2023-09-17 17:25:07|     E 22 St & 2 Ave|\n",
      "|   E 63 St & 3 Ave|2B4444F488E10EF1| classic_bike|2023-09-14 19:36:22|2023-09-14 19:42:46|     E 77 St & 1 Ave|\n",
      "|   E 63 St & 3 Ave|13F02F426088B4B8| classic_bike|2023-09-14 17:58:56|2023-09-14 18:06:09|     E 77 St & 1 Ave|\n",
      "|   E 63 St & 3 Ave|12CF3C464E9B1099| classic_bike|2023-09-18 17:10:08|2023-09-18 17:24:44|     E 89 St & 3 Ave|\n",
      "|   E 63 St & 3 Ave|DF878E6954A04102| classic_bike|2023-09-04 17:43:44|2023-09-04 17:52:17|     E 47 St & 1 Ave|\n",
      "|   E 63 St & 3 Ave|024DEBB3EA04C983| classic_bike|2023-09-13 17:46:39|2023-09-13 17:56:59|     E 25 St & 2 Ave|\n",
      "|   E 63 St & 3 Ave|BA3D04464055481A| classic_bike|2023-09-08 11:40:23|2023-09-08 11:42:09|     3 Ave & E 62 St|\n",
      "+------------------+----------------+-------------+-------------------+-------------------+--------------------+\n",
      "only showing top 20 rows\n",
      "\n"
     ]
    }
   ],
   "source": [
    "# Ler o arquivo CSV com cabeçalho\n",
    "df_time = spark.read.csv(\"/home/jovyan/work/desafiodabicicleta/202309-citibike-tripdata.csv\", header=True)\n",
    "\n",
    "# Selecione as colunas desejadas\n",
    "df_time = df_time.select(\"start_station_name\", \"ride_id\",\"rideable_type\", \"started_at\", \"ended_at\", \"end_station_name\")\n",
    "\n",
    "# Registrar o DataFrame como uma tabela temporária\n",
    "df_time.createOrReplaceTempView(\"tripdata\")\n",
    "\n",
    "# Executar consulta SQL no DataFrame\n",
    "resultado = spark.sql(\"\"\"SELECT * FROM tripdata WHERE start_station_name = 'E 63 St & 3 Ave'\"\"\")\n",
    "resultado.show()"
   ]
  },
  {
   "cell_type": "markdown",
   "id": "733b4dcb",
   "metadata": {},
   "source": [
    "Identificar a estação de bicicleta mais popular com base no número total de viagens iniciadas e exibir o resultado em uma tabela SQL."
   ]
  },
  {
   "cell_type": "code",
   "execution_count": 152,
   "id": "c05cfab6",
   "metadata": {},
   "outputs": [
    {
     "name": "stdout",
     "output_type": "stream",
     "text": [
      "+------------------+-----------+\n",
      "|start_station_name|total_trips|\n",
      "+------------------+-----------+\n",
      "|   W 21 St & 6 Ave|      13596|\n",
      "+------------------+-----------+\n",
      "\n"
     ]
    }
   ],
   "source": [
    "# Ler o arquivo CSV com cabeçalho\n",
    "df_time = spark.read.csv(\"/home/jovyan/work/desafiodabicicleta/202309-citibike-tripdata.csv\", header=True)\n",
    "\n",
    "# Selecione as colunas desejadas\n",
    "df_time = df_time.select(\"start_station_name\", \"ride_id\",\"rideable_type\", \"started_at\", \"ended_at\", \"end_station_name\")\n",
    "\n",
    "# Registrar o DataFrame como uma tabela temporária\n",
    "df_time.createOrReplaceTempView(\"tripdata\")\n",
    "\n",
    "consulta_sql = \"\"\"\n",
    "SELECT start_station_name, COUNT(*) as total_trips\n",
    "FROM tripdata\n",
    "GROUP BY start_station_name\n",
    "ORDER BY total_trips DESC\n",
    "LIMIT 1\n",
    "\"\"\"\n",
    "\n",
    "resultado = spark.sql(consulta_sql)\n",
    "resultado.show()"
   ]
  },
  {
   "cell_type": "markdown",
   "id": "9fef7a48",
   "metadata": {},
   "source": [
    "Calcular a média de distância percorrida em uma viagem e exibir o resultado em uma tabela SQL."
   ]
  },
  {
   "cell_type": "code",
   "execution_count": 153,
   "id": "963025e6",
   "metadata": {},
   "outputs": [
    {
     "name": "stdout",
     "output_type": "stream",
     "text": [
      "+------------------+\n",
      "|distancia_media(m)|\n",
      "+------------------+\n",
      "|           1945.57|\n",
      "+------------------+\n",
      "\n"
     ]
    }
   ],
   "source": [
    "from pyspark.sql.functions import radians, atan2, sin, cos, lit, sqrt\n",
    "# Ler o arquivo CSV com cabeçalho\n",
    "df = spark.read.csv(\"/home/jovyan/work/desafiodabicicleta/202309-citibike-tripdata.csv\", header=True)\n",
    "\n",
    "# Registrar o DataFrame como uma tabela temporária\n",
    "df.createOrReplaceTempView(\"tripdata\")\n",
    "\n",
    "df = df.withColumn(\"start_lat_rad\", radians(df[\"start_lat\"]))\n",
    "df = df.withColumn(\"end_lat_rad\", radians(df[\"end_lat\"]))\n",
    "df = df.withColumn(\"lat_diff_rad\", radians(df[\"end_lat\"] - df[\"start_lat\"]))\n",
    "df = df.withColumn(\"lng_diff_rad\", radians(df[\"end_lng\"] - df[\"start_lng\"]))\n",
    "\n",
    "df = df.withColumn(\n",
    "    \"a\",\n",
    "    sin(df[\"lat_diff_rad\"] / 2) ** 2 + cos(df[\"start_lat_rad\"]) * cos(df[\"end_lat_rad\"]) * sin(df[\"lng_diff_rad\"] / 2) ** 2\n",
    ")\n",
    "\n",
    "df = df.withColumn(\"c\", 2 * atan2(sqrt(df[\"a\"]), sqrt(1 - df[\"a\"])))\n",
    "\n",
    "# Raio da Terra em metros (aproximadamente)\n",
    "earth_radius = 6371000\n",
    "df = df.withColumn(\"distance\", earth_radius * df[\"c\"])\n",
    "\n",
    "average_distance = df.selectExpr(\"round(AVG(distance), 2) as avg_distance\").collect()[0][\"avg_distance\"]\n",
    "df_result = spark.createDataFrame([(average_distance,)], [\"distancia_media(m)\"])\n",
    "\n",
    "df_result.show()\n",
    "\n"
   ]
  },
  {
   "cell_type": "markdown",
   "id": "adb8a6dd",
   "metadata": {},
   "source": [
    "Determinar os dias da semana com a maior e a menor quantidade de viagens e exibir os resultados em uma tabela SQL."
   ]
  },
  {
   "cell_type": "code",
   "execution_count": 154,
   "id": "794b9ef8",
   "metadata": {},
   "outputs": [
    {
     "name": "stdout",
     "output_type": "stream",
     "text": [
      "+-----------------------+------------------------+------------------------+-------------------------+\n",
      "|dia_semana_mais_popular|viagens_dia_mais_popular|dia_semana_menos_popular|viagens_dia_menos_popular|\n",
      "+-----------------------+------------------------+------------------------+-------------------------+\n",
      "|                 Friday|                  609672|                  Monday|                   336507|\n",
      "+-----------------------+------------------------+------------------------+-------------------------+\n",
      "\n"
     ]
    }
   ],
   "source": [
    "# Ler o arquivo CSV com cabeçalho\n",
    "df_time = spark.read.csv(\"/home/jovyan/work/desafiodabicicleta/202309-citibike-tripdata.csv\", header=True)\n",
    "\n",
    "# Selecione as colunas desejadas\n",
    "df_time = df_time.select(\"start_station_name\", \"ride_id\",\"rideable_type\", \"started_at\", \"ended_at\", \"end_station_name\")\n",
    "\n",
    "# Registrar o DataFrame como uma tabela temporária\n",
    "df_time.createOrReplaceTempView(\"tripdata\")\n",
    "\n",
    "consulta_sql = \"\"\"\n",
    "SELECT \n",
    "    (SELECT date_format(started_at, 'EEEE') FROM tripdata GROUP BY date_format(started_at, 'EEEE') ORDER BY COUNT(*) DESC LIMIT 1) as dia_semana_mais_popular,\n",
    "    (SELECT COUNT(*) FROM tripdata WHERE date_format(started_at, 'EEEE') = (SELECT date_format(started_at, 'EEEE') FROM tripdata GROUP BY date_format(started_at, 'EEEE') ORDER BY COUNT(*) DESC LIMIT 1)) as viagens_dia_mais_popular,\n",
    "    (SELECT date_format(started_at, 'EEEE') FROM tripdata GROUP BY date_format(started_at, 'EEEE') ORDER BY COUNT(*) ASC LIMIT 1) as dia_semana_menos_popular,\n",
    "    (SELECT COUNT(*) FROM tripdata WHERE date_format(started_at, 'EEEE') = (SELECT date_format(started_at, 'EEEE') FROM tripdata GROUP BY date_format(started_at, 'EEEE') ORDER BY COUNT(*) ASC LIMIT 1)) as viagens_dia_menos_popular\n",
    "\"\"\"\n",
    "\n",
    "resultado = spark.sql(consulta_sql)\n",
    "resultado.show()\n",
    "\n",
    "\n"
   ]
  },
  {
   "cell_type": "code",
   "execution_count": 155,
   "id": "26a4ed53-efda-497f-9286-6b5f59d49ce8",
   "metadata": {},
   "outputs": [
    {
     "name": "stdout",
     "output_type": "stream",
     "text": [
      "Sessão spark encerrada\n"
     ]
    }
   ],
   "source": [
    "# Encerra a sessão Spark\n",
    "print(\"Sessão spark encerrada\")\n",
    "spark.stop()"
   ]
  },
  {
   "cell_type": "code",
   "execution_count": 156,
   "id": "425609f0-580b-4ef6-bc66-92b8ed898909",
   "metadata": {},
   "outputs": [],
   "source": [
    "# Executar consulta SQL no DataFrame\n",
    "# df_time = spark.read.csv(\"/home/jovyan/work/desafiodabicicleta/202309-citibike-tripdata.csv\", header=True)\n",
    "# print(df_time.show())\n",
    "#\"ride_id\",\"rideable_type\", \"started_at\", \"ended_at\", \"start_station_name\", \"end_station_name\""
   ]
  },
  {
   "cell_type": "code",
   "execution_count": 157,
   "id": "0d694e70-f40b-4201-adde-07404c810c92",
   "metadata": {},
   "outputs": [],
   "source": [
    "# import os\n",
    "# print(os.path.abspath(\"202309-citibike-tripdata.csv\"))"
   ]
  }
 ],
 "metadata": {
  "kernelspec": {
   "display_name": "Python 3 (ipykernel)",
   "language": "python",
   "name": "python3"
  },
  "language_info": {
   "codemirror_mode": {
    "name": "ipython",
    "version": 3
   },
   "file_extension": ".py",
   "mimetype": "text/x-python",
   "name": "python",
   "nbconvert_exporter": "python",
   "pygments_lexer": "ipython3",
   "version": "3.11.6"
  }
 },
 "nbformat": 4,
 "nbformat_minor": 5
}
